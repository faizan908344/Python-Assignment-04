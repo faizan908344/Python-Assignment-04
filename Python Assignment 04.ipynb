{
 "cells": [
  {
   "cell_type": "code",
   "execution_count": 26,
   "id": "ae733829",
   "metadata": {},
   "outputs": [
    {
     "name": "stdout",
     "output_type": "stream",
     "text": [
      "Enter the first number: 2\n",
      "Enter the second number: 4\n",
      "Choose your operator through which the operation you want to perform \n",
      " \t+ \t- \t* \t/ \t** \n",
      " Your Operator: **\n",
      "The Power Of the number is:  16.0\n"
     ]
    }
   ],
   "source": [
    "#1 Make A Calculator Using Python With Addition, Subtraction, Multiplication, Division and Power.\n",
    "\n",
    "num1 = float(input(\"Enter the first number: \"));\n",
    "num2 = float(input(\"Enter the second number: \"));\n",
    "operator = input(\"Choose your operator through which the operation you want to perform \\n \\t+ \\t- \\t* \\t/ \\t** \\n Your Operator: \");\n",
    "if operator == '+':\n",
    "    {\n",
    "        print(\"The Sum Of num1 and num2 is: \", num1+num2)\n",
    "    }\n",
    "elif operator == '-':\n",
    "    {\n",
    "        print(\"The Subtraction Of num1 and num2 is: \", num1-num2)\n",
    "    }\n",
    "elif operator == '*':\n",
    "    {\n",
    "        print(\"The Multiplication Of num1 and num2 is: \", num1*num2)\n",
    "    }\n",
    "elif operator == '/':\n",
    "    {\n",
    "        print(\"The Divison Of num1 and num2 is: \", num1/num2)\n",
    "    }\n",
    "elif operator == '**':\n",
    "    {\n",
    "        print(\"The Power Of the number is: \", pow(num1, num2))\n",
    "    }\n",
    "else:\n",
    "    {\n",
    "        print(\"Idiot!!!!!!!!!!! The Enter Number is Invalid\")\n",
    "    }"
   ]
  },
  {
   "cell_type": "code",
   "execution_count": 7,
   "id": "6e6987ce",
   "metadata": {},
   "outputs": [
    {
     "name": "stdout",
     "output_type": "stream",
     "text": [
      "8\n",
      "5\n",
      "12\n",
      "22\n",
      "23\n",
      "45\n"
     ]
    }
   ],
   "source": [
    "#2 Write A Program To Check If There Is Any Numeric Value In List Using Loop\n",
    "\n",
    "list = [\"Faizan\", \"Armaghan\", 8, 5, 12, \"Apple\", 22, 23, 45] \n",
    "for x in list: \n",
    "    if type(x) == int: \n",
    "        print(x)\n",
    "        \n",
    "    "
   ]
  },
  {
   "cell_type": "code",
   "execution_count": 9,
   "id": "c4f691b3",
   "metadata": {},
   "outputs": [
    {
     "name": "stdout",
     "output_type": "stream",
     "text": [
      "1 Mango\n",
      "2 Banana\n",
      "3 Grapes\n",
      "4 Apple\n",
      "5 \n"
     ]
    }
   ],
   "source": [
    "#3 Write A Python Script To Add A Key To A Dictionary\n",
    "dict = {1:'Mango',2:'Banana',3:'Grapes', 4:'Apple'}\n",
    "\n",
    "dict[5] = ''\n",
    "for key, values in dict.items():\n",
    "    print(key, values)"
   ]
  },
  {
   "cell_type": "code",
   "execution_count": 13,
   "id": "a3f804fe",
   "metadata": {},
   "outputs": [
    {
     "name": "stdout",
     "output_type": "stream",
     "text": [
      "{'Age1': 2, 'Age2': 9, 'Age3': 15, 'Age4': 20, 'Age5': 28, 'Age6': 33, 'Age7': 55}\n",
      "The Sum of all the Numeric Items in a dictionary is:  162\n"
     ]
    }
   ],
   "source": [
    "#4 Write A Python Program To Sum All The Numeric items In A Dictionary\n",
    "list1 = {'Age1':2,'Age2':9,'Age3':15,'Age4':20,'Age5':28,'Age6':33,'Age7':55}\n",
    "print(list1)\n",
    "print(\"The Sum of all the Numeric Items in a dictionary is: \",sum(list1.values()))"
   ]
  },
  {
   "cell_type": "code",
   "execution_count": 24,
   "id": "e8729e08",
   "metadata": {},
   "outputs": [
    {
     "name": "stdout",
     "output_type": "stream",
     "text": [
      "2 3 4 5 "
     ]
    }
   ],
   "source": [
    "#5 Write A Program To Identify The Duplicate Value From The List\n",
    "l=[1,2,3,4,5,2,3,4,7,9,5]\n",
    "l1=[]\n",
    "for i in l:\n",
    "    if i not in l1:\n",
    "        l1.append(i)\n",
    "    else:\n",
    "        print(i,end=' ')"
   ]
  },
  {
   "cell_type": "code",
   "execution_count": 25,
   "id": "26aacec7",
   "metadata": {},
   "outputs": [
    {
     "name": "stdout",
     "output_type": "stream",
     "text": [
      "That Particular key is in the Dictionary\n"
     ]
    }
   ],
   "source": [
    "#6 Write A Python Script To Check If A Given Key Already Exist In A Dictionary\n",
    "Ages = {'Age1':2,'Age2':9,'Age3':15,'Age4':20,'Age5':28,'Age6':33,'Age7':55}\n",
    "if 'Age3' in Ages:\n",
    "    print(\"That Particular key is in the Dictionary\")\n",
    "else:\n",
    "    print(\"That Particular key is not in the Dictionary\")"
   ]
  },
  {
   "cell_type": "code",
   "execution_count": null,
   "id": "83a758d6",
   "metadata": {},
   "outputs": [],
   "source": []
  }
 ],
 "metadata": {
  "kernelspec": {
   "display_name": "Python 3",
   "language": "python",
   "name": "python3"
  },
  "language_info": {
   "codemirror_mode": {
    "name": "ipython",
    "version": 3
   },
   "file_extension": ".py",
   "mimetype": "text/x-python",
   "name": "python",
   "nbconvert_exporter": "python",
   "pygments_lexer": "ipython3",
   "version": "3.8.8"
  }
 },
 "nbformat": 4,
 "nbformat_minor": 5
}
